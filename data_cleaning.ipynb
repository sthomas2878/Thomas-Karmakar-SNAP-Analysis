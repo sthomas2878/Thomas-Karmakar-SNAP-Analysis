{
 "cells": [
  {
   "cell_type": "markdown",
   "metadata": {},
   "source": [
    "## Data Cleaning for FAPS Household PUF "
   ]
  },
  {
   "cell_type": "markdown",
   "metadata": {},
   "source": [
    "### Imports"
   ]
  },
  {
   "cell_type": "code",
   "execution_count": 1,
   "metadata": {},
   "outputs": [],
   "source": [
    "import numpy as np\n",
    "import pandas as pd"
   ]
  },
  {
   "cell_type": "markdown",
   "metadata": {},
   "source": [
    "### Data"
   ]
  },
  {
   "cell_type": "code",
   "execution_count": 2,
   "metadata": {},
   "outputs": [],
   "source": [
    "df = pd.read_csv('faps_household_puf.csv')"
   ]
  },
  {
   "cell_type": "code",
   "execution_count": 3,
   "metadata": {},
   "outputs": [
    {
     "data": {
      "text/html": [
       "<div>\n",
       "<style scoped>\n",
       "    .dataframe tbody tr th:only-of-type {\n",
       "        vertical-align: middle;\n",
       "    }\n",
       "\n",
       "    .dataframe tbody tr th {\n",
       "        vertical-align: top;\n",
       "    }\n",
       "\n",
       "    .dataframe thead th {\n",
       "        text-align: right;\n",
       "    }\n",
       "</style>\n",
       "<table border=\"1\" class=\"dataframe\">\n",
       "  <thead>\n",
       "    <tr style=\"text-align: right;\">\n",
       "      <th></th>\n",
       "      <th>hhnum</th>\n",
       "      <th>initintrvmon</th>\n",
       "      <th>startmon</th>\n",
       "      <th>initfinaldays</th>\n",
       "      <th>initialdate_flag</th>\n",
       "      <th>startdate_edit</th>\n",
       "      <th>startlag</th>\n",
       "      <th>matchconsenthh</th>\n",
       "      <th>nonmetro</th>\n",
       "      <th>region</th>\n",
       "      <th>...</th>\n",
       "      <th>feedback2</th>\n",
       "      <th>feedback3</th>\n",
       "      <th>feedback4_1</th>\n",
       "      <th>feedback4_2</th>\n",
       "      <th>feedback4_3</th>\n",
       "      <th>feedback4_4</th>\n",
       "      <th>feedback4_5</th>\n",
       "      <th>feedback4_6</th>\n",
       "      <th>feedback4_7</th>\n",
       "      <th>feedback4_8</th>\n",
       "    </tr>\n",
       "  </thead>\n",
       "  <tbody>\n",
       "    <tr>\n",
       "      <th>0</th>\n",
       "      <td>100012</td>\n",
       "      <td>1</td>\n",
       "      <td>1</td>\n",
       "      <td>8</td>\n",
       "      <td>0</td>\n",
       "      <td>0</td>\n",
       "      <td>1</td>\n",
       "      <td>1</td>\n",
       "      <td>1</td>\n",
       "      <td>3</td>\n",
       "      <td>...</td>\n",
       "      <td>3.0</td>\n",
       "      <td>3.0</td>\n",
       "      <td>0.0</td>\n",
       "      <td>0.0</td>\n",
       "      <td>0.0</td>\n",
       "      <td>0.0</td>\n",
       "      <td>0.0</td>\n",
       "      <td>0.0</td>\n",
       "      <td>0.0</td>\n",
       "      <td>1.0</td>\n",
       "    </tr>\n",
       "    <tr>\n",
       "      <th>1</th>\n",
       "      <td>100015</td>\n",
       "      <td>8</td>\n",
       "      <td>8</td>\n",
       "      <td>8</td>\n",
       "      <td>0</td>\n",
       "      <td>0</td>\n",
       "      <td>1</td>\n",
       "      <td>1</td>\n",
       "      <td>0</td>\n",
       "      <td>3</td>\n",
       "      <td>...</td>\n",
       "      <td>6.0</td>\n",
       "      <td>2.0</td>\n",
       "      <td>0.0</td>\n",
       "      <td>0.0</td>\n",
       "      <td>0.0</td>\n",
       "      <td>0.0</td>\n",
       "      <td>0.0</td>\n",
       "      <td>0.0</td>\n",
       "      <td>0.0</td>\n",
       "      <td>1.0</td>\n",
       "    </tr>\n",
       "    <tr>\n",
       "      <th>2</th>\n",
       "      <td>100024</td>\n",
       "      <td>6</td>\n",
       "      <td>6</td>\n",
       "      <td>9</td>\n",
       "      <td>0</td>\n",
       "      <td>0</td>\n",
       "      <td>0</td>\n",
       "      <td>1</td>\n",
       "      <td>0</td>\n",
       "      <td>2</td>\n",
       "      <td>...</td>\n",
       "      <td>1.0</td>\n",
       "      <td>1.0</td>\n",
       "      <td>0.0</td>\n",
       "      <td>0.0</td>\n",
       "      <td>0.0</td>\n",
       "      <td>0.0</td>\n",
       "      <td>0.0</td>\n",
       "      <td>0.0</td>\n",
       "      <td>0.0</td>\n",
       "      <td>1.0</td>\n",
       "    </tr>\n",
       "    <tr>\n",
       "      <th>3</th>\n",
       "      <td>100026</td>\n",
       "      <td>7</td>\n",
       "      <td>7</td>\n",
       "      <td>10</td>\n",
       "      <td>0</td>\n",
       "      <td>0</td>\n",
       "      <td>1</td>\n",
       "      <td>1</td>\n",
       "      <td>0</td>\n",
       "      <td>3</td>\n",
       "      <td>...</td>\n",
       "      <td>1.0</td>\n",
       "      <td>1.0</td>\n",
       "      <td>0.0</td>\n",
       "      <td>0.0</td>\n",
       "      <td>0.0</td>\n",
       "      <td>0.0</td>\n",
       "      <td>0.0</td>\n",
       "      <td>0.0</td>\n",
       "      <td>0.0</td>\n",
       "      <td>1.0</td>\n",
       "    </tr>\n",
       "    <tr>\n",
       "      <th>4</th>\n",
       "      <td>100028</td>\n",
       "      <td>5</td>\n",
       "      <td>5</td>\n",
       "      <td>8</td>\n",
       "      <td>0</td>\n",
       "      <td>0</td>\n",
       "      <td>1</td>\n",
       "      <td>1</td>\n",
       "      <td>0</td>\n",
       "      <td>1</td>\n",
       "      <td>...</td>\n",
       "      <td>4.0</td>\n",
       "      <td>1.0</td>\n",
       "      <td>0.0</td>\n",
       "      <td>0.0</td>\n",
       "      <td>0.0</td>\n",
       "      <td>0.0</td>\n",
       "      <td>0.0</td>\n",
       "      <td>0.0</td>\n",
       "      <td>0.0</td>\n",
       "      <td>1.0</td>\n",
       "    </tr>\n",
       "  </tbody>\n",
       "</table>\n",
       "<p>5 rows × 279 columns</p>\n",
       "</div>"
      ],
      "text/plain": [
       "    hhnum  initintrvmon  startmon  initfinaldays  initialdate_flag  \\\n",
       "0  100012             1         1              8                 0   \n",
       "1  100015             8         8              8                 0   \n",
       "2  100024             6         6              9                 0   \n",
       "3  100026             7         7             10                 0   \n",
       "4  100028             5         5              8                 0   \n",
       "\n",
       "   startdate_edit  startlag  matchconsenthh  nonmetro  region  ...  feedback2  \\\n",
       "0               0         1               1         1       3  ...        3.0   \n",
       "1               0         1               1         0       3  ...        6.0   \n",
       "2               0         0               1         0       2  ...        1.0   \n",
       "3               0         1               1         0       3  ...        1.0   \n",
       "4               0         1               1         0       1  ...        4.0   \n",
       "\n",
       "   feedback3  feedback4_1  feedback4_2  feedback4_3  feedback4_4  feedback4_5  \\\n",
       "0        3.0          0.0          0.0          0.0          0.0          0.0   \n",
       "1        2.0          0.0          0.0          0.0          0.0          0.0   \n",
       "2        1.0          0.0          0.0          0.0          0.0          0.0   \n",
       "3        1.0          0.0          0.0          0.0          0.0          0.0   \n",
       "4        1.0          0.0          0.0          0.0          0.0          0.0   \n",
       "\n",
       "   feedback4_6  feedback4_7  feedback4_8  \n",
       "0          0.0          0.0          1.0  \n",
       "1          0.0          0.0          1.0  \n",
       "2          0.0          0.0          1.0  \n",
       "3          0.0          0.0          1.0  \n",
       "4          0.0          0.0          1.0  \n",
       "\n",
       "[5 rows x 279 columns]"
      ]
     },
     "execution_count": 3,
     "metadata": {},
     "output_type": "execute_result"
    }
   ],
   "source": [
    "df.head()"
   ]
  },
  {
   "cell_type": "code",
   "execution_count": 4,
   "metadata": {},
   "outputs": [
    {
     "name": "stdout",
     "output_type": "stream",
     "text": [
      "<class 'pandas.core.frame.DataFrame'>\n",
      "RangeIndex: 4826 entries, 0 to 4825\n",
      "Columns: 279 entries, hhnum to feedback4_8\n",
      "dtypes: float64(75), int64(202), object(2)\n",
      "memory usage: 10.3+ MB\n"
     ]
    }
   ],
   "source": [
    "df.info()"
   ]
  },
  {
   "cell_type": "markdown",
   "metadata": {},
   "source": [
    "### Filter out those with snapnowhh == -997\n",
    "\n",
    "SNAPNOWHH - Anyone in household is receiving benefits\n",
    "* 0 - No\n",
    "* 1 - Yes\n",
    "* -997 - Don't Know"
   ]
  },
  {
   "cell_type": "code",
   "execution_count": 5,
   "metadata": {},
   "outputs": [],
   "source": [
    "df = df[df['snapnowhh'] != -997]"
   ]
  },
  {
   "cell_type": "code",
   "execution_count": 6,
   "metadata": {},
   "outputs": [
    {
     "data": {
      "text/html": [
       "<div>\n",
       "<style scoped>\n",
       "    .dataframe tbody tr th:only-of-type {\n",
       "        vertical-align: middle;\n",
       "    }\n",
       "\n",
       "    .dataframe tbody tr th {\n",
       "        vertical-align: top;\n",
       "    }\n",
       "\n",
       "    .dataframe thead th {\n",
       "        text-align: right;\n",
       "    }\n",
       "</style>\n",
       "<table border=\"1\" class=\"dataframe\">\n",
       "  <thead>\n",
       "    <tr style=\"text-align: right;\">\n",
       "      <th></th>\n",
       "      <th>hhnum</th>\n",
       "      <th>initintrvmon</th>\n",
       "      <th>startmon</th>\n",
       "      <th>initfinaldays</th>\n",
       "      <th>initialdate_flag</th>\n",
       "      <th>startdate_edit</th>\n",
       "      <th>startlag</th>\n",
       "      <th>matchconsenthh</th>\n",
       "      <th>nonmetro</th>\n",
       "      <th>region</th>\n",
       "      <th>...</th>\n",
       "      <th>feedback2</th>\n",
       "      <th>feedback3</th>\n",
       "      <th>feedback4_1</th>\n",
       "      <th>feedback4_2</th>\n",
       "      <th>feedback4_3</th>\n",
       "      <th>feedback4_4</th>\n",
       "      <th>feedback4_5</th>\n",
       "      <th>feedback4_6</th>\n",
       "      <th>feedback4_7</th>\n",
       "      <th>feedback4_8</th>\n",
       "    </tr>\n",
       "  </thead>\n",
       "  <tbody>\n",
       "    <tr>\n",
       "      <th>0</th>\n",
       "      <td>100012</td>\n",
       "      <td>1</td>\n",
       "      <td>1</td>\n",
       "      <td>8</td>\n",
       "      <td>0</td>\n",
       "      <td>0</td>\n",
       "      <td>1</td>\n",
       "      <td>1</td>\n",
       "      <td>1</td>\n",
       "      <td>3</td>\n",
       "      <td>...</td>\n",
       "      <td>3.0</td>\n",
       "      <td>3.0</td>\n",
       "      <td>0.0</td>\n",
       "      <td>0.0</td>\n",
       "      <td>0.0</td>\n",
       "      <td>0.0</td>\n",
       "      <td>0.0</td>\n",
       "      <td>0.0</td>\n",
       "      <td>0.0</td>\n",
       "      <td>1.0</td>\n",
       "    </tr>\n",
       "    <tr>\n",
       "      <th>1</th>\n",
       "      <td>100015</td>\n",
       "      <td>8</td>\n",
       "      <td>8</td>\n",
       "      <td>8</td>\n",
       "      <td>0</td>\n",
       "      <td>0</td>\n",
       "      <td>1</td>\n",
       "      <td>1</td>\n",
       "      <td>0</td>\n",
       "      <td>3</td>\n",
       "      <td>...</td>\n",
       "      <td>6.0</td>\n",
       "      <td>2.0</td>\n",
       "      <td>0.0</td>\n",
       "      <td>0.0</td>\n",
       "      <td>0.0</td>\n",
       "      <td>0.0</td>\n",
       "      <td>0.0</td>\n",
       "      <td>0.0</td>\n",
       "      <td>0.0</td>\n",
       "      <td>1.0</td>\n",
       "    </tr>\n",
       "    <tr>\n",
       "      <th>2</th>\n",
       "      <td>100024</td>\n",
       "      <td>6</td>\n",
       "      <td>6</td>\n",
       "      <td>9</td>\n",
       "      <td>0</td>\n",
       "      <td>0</td>\n",
       "      <td>0</td>\n",
       "      <td>1</td>\n",
       "      <td>0</td>\n",
       "      <td>2</td>\n",
       "      <td>...</td>\n",
       "      <td>1.0</td>\n",
       "      <td>1.0</td>\n",
       "      <td>0.0</td>\n",
       "      <td>0.0</td>\n",
       "      <td>0.0</td>\n",
       "      <td>0.0</td>\n",
       "      <td>0.0</td>\n",
       "      <td>0.0</td>\n",
       "      <td>0.0</td>\n",
       "      <td>1.0</td>\n",
       "    </tr>\n",
       "    <tr>\n",
       "      <th>3</th>\n",
       "      <td>100026</td>\n",
       "      <td>7</td>\n",
       "      <td>7</td>\n",
       "      <td>10</td>\n",
       "      <td>0</td>\n",
       "      <td>0</td>\n",
       "      <td>1</td>\n",
       "      <td>1</td>\n",
       "      <td>0</td>\n",
       "      <td>3</td>\n",
       "      <td>...</td>\n",
       "      <td>1.0</td>\n",
       "      <td>1.0</td>\n",
       "      <td>0.0</td>\n",
       "      <td>0.0</td>\n",
       "      <td>0.0</td>\n",
       "      <td>0.0</td>\n",
       "      <td>0.0</td>\n",
       "      <td>0.0</td>\n",
       "      <td>0.0</td>\n",
       "      <td>1.0</td>\n",
       "    </tr>\n",
       "    <tr>\n",
       "      <th>4</th>\n",
       "      <td>100028</td>\n",
       "      <td>5</td>\n",
       "      <td>5</td>\n",
       "      <td>8</td>\n",
       "      <td>0</td>\n",
       "      <td>0</td>\n",
       "      <td>1</td>\n",
       "      <td>1</td>\n",
       "      <td>0</td>\n",
       "      <td>1</td>\n",
       "      <td>...</td>\n",
       "      <td>4.0</td>\n",
       "      <td>1.0</td>\n",
       "      <td>0.0</td>\n",
       "      <td>0.0</td>\n",
       "      <td>0.0</td>\n",
       "      <td>0.0</td>\n",
       "      <td>0.0</td>\n",
       "      <td>0.0</td>\n",
       "      <td>0.0</td>\n",
       "      <td>1.0</td>\n",
       "    </tr>\n",
       "  </tbody>\n",
       "</table>\n",
       "<p>5 rows × 279 columns</p>\n",
       "</div>"
      ],
      "text/plain": [
       "    hhnum  initintrvmon  startmon  initfinaldays  initialdate_flag  \\\n",
       "0  100012             1         1              8                 0   \n",
       "1  100015             8         8              8                 0   \n",
       "2  100024             6         6              9                 0   \n",
       "3  100026             7         7             10                 0   \n",
       "4  100028             5         5              8                 0   \n",
       "\n",
       "   startdate_edit  startlag  matchconsenthh  nonmetro  region  ...  feedback2  \\\n",
       "0               0         1               1         1       3  ...        3.0   \n",
       "1               0         1               1         0       3  ...        6.0   \n",
       "2               0         0               1         0       2  ...        1.0   \n",
       "3               0         1               1         0       3  ...        1.0   \n",
       "4               0         1               1         0       1  ...        4.0   \n",
       "\n",
       "   feedback3  feedback4_1  feedback4_2  feedback4_3  feedback4_4  feedback4_5  \\\n",
       "0        3.0          0.0          0.0          0.0          0.0          0.0   \n",
       "1        2.0          0.0          0.0          0.0          0.0          0.0   \n",
       "2        1.0          0.0          0.0          0.0          0.0          0.0   \n",
       "3        1.0          0.0          0.0          0.0          0.0          0.0   \n",
       "4        1.0          0.0          0.0          0.0          0.0          0.0   \n",
       "\n",
       "   feedback4_6  feedback4_7  feedback4_8  \n",
       "0          0.0          0.0          1.0  \n",
       "1          0.0          0.0          1.0  \n",
       "2          0.0          0.0          1.0  \n",
       "3          0.0          0.0          1.0  \n",
       "4          0.0          0.0          1.0  \n",
       "\n",
       "[5 rows x 279 columns]"
      ]
     },
     "execution_count": 6,
     "metadata": {},
     "output_type": "execute_result"
    }
   ],
   "source": [
    "df.head()"
   ]
  },
  {
   "cell_type": "code",
   "execution_count": 7,
   "metadata": {},
   "outputs": [
    {
     "name": "stdout",
     "output_type": "stream",
     "text": [
      "<class 'pandas.core.frame.DataFrame'>\n",
      "Int64Index: 4824 entries, 0 to 4825\n",
      "Columns: 279 entries, hhnum to feedback4_8\n",
      "dtypes: float64(75), int64(202), object(2)\n",
      "memory usage: 10.3+ MB\n"
     ]
    }
   ],
   "source": [
    "df.info()"
   ]
  },
  {
   "cell_type": "markdown",
   "metadata": {},
   "source": [
    "### Filter out fincondition == -997 and fincondition == -998\n",
    "\n",
    "FINCONDITION - Household's reported financial condition\n",
    "* 1 - Very comfortable and secure\n",
    "* 2 - Able to make ends meet without much difficulty\n",
    "* 3 - Occasionally have some difficulty making ends meet\n",
    "* 4 - Tought to make ends meet but keeping your head above the water\n",
    "* 5 - In over your head\n",
    "* -997 - Don't know\n",
    "* -998 - Refused"
   ]
  },
  {
   "cell_type": "code",
   "execution_count": 8,
   "metadata": {},
   "outputs": [],
   "source": [
    "df = df[df['fincondition'] != -997]"
   ]
  },
  {
   "cell_type": "code",
   "execution_count": 9,
   "metadata": {},
   "outputs": [],
   "source": [
    "df = df[df['fincondition'] != -998]"
   ]
  },
  {
   "cell_type": "markdown",
   "metadata": {},
   "source": [
    "### Split adltfscat into a binary variable\n",
    "\n",
    "ADLTFSCAT - Adult food security status - 30 Day\n",
    "* 1 - High Food Security\n",
    "* 2 - Marginal Food Security\n",
    "* 3 - Low Food Security\n",
    "* 4 - Very Low Food Security"
   ]
  },
  {
   "cell_type": "code",
   "execution_count": 10,
   "metadata": {},
   "outputs": [
    {
     "data": {
      "text/plain": [
       "1    2515\n",
       "2     959\n",
       "3     784\n",
       "4     559\n",
       "Name: adltfscat, dtype: int64"
      ]
     },
     "execution_count": 10,
     "metadata": {},
     "output_type": "execute_result"
    }
   ],
   "source": [
    "df['adltfscat'].value_counts()"
   ]
  },
  {
   "cell_type": "markdown",
   "metadata": {},
   "source": [
    "BINADLTFSCAT\n",
    "\n",
    "* 0 - Food Secure (ADLTFSCAT == 1 or ADLTFSCAT == 2)\n",
    "* 1 - Food Insecure (ADLTFSCAT == 3 or ADLTFSCAT == 4)"
   ]
  },
  {
   "cell_type": "code",
   "execution_count": 11,
   "metadata": {},
   "outputs": [],
   "source": [
    "df['binadltfscat'] = df['adltfscat'].apply(lambda x: x == 3 or x == 4)"
   ]
  },
  {
   "cell_type": "code",
   "execution_count": 12,
   "metadata": {},
   "outputs": [],
   "source": [
    "df['binadltfscat'] = pd.get_dummies(df['binadltfscat'], drop_first=True)"
   ]
  },
  {
   "cell_type": "code",
   "execution_count": 13,
   "metadata": {},
   "outputs": [
    {
     "data": {
      "text/plain": [
       "0    3474\n",
       "1    1343\n",
       "Name: binadltfscat, dtype: int64"
      ]
     },
     "execution_count": 13,
     "metadata": {},
     "output_type": "execute_result"
    }
   ],
   "source": [
    "df['binadltfscat'].value_counts()"
   ]
  },
  {
   "cell_type": "markdown",
   "metadata": {},
   "source": [
    "### Region/Rural Indicator\n",
    "\n",
    "Create an indicator variable to include information about the region and rural status of a single household\n",
    "Important for exploratory analysis graphs"
   ]
  },
  {
   "cell_type": "code",
   "execution_count": 14,
   "metadata": {},
   "outputs": [],
   "source": [
    "df['rrindicator'] = df['region'] * 10 + df['rural']"
   ]
  },
  {
   "cell_type": "markdown",
   "metadata": {},
   "source": [
    "### Write to a new CSV\n",
    "\n",
    "faps_household_clean.csv"
   ]
  },
  {
   "cell_type": "code",
   "execution_count": 15,
   "metadata": {},
   "outputs": [],
   "source": [
    "df.to_csv('faps_household_clean.csv')"
   ]
  }
 ],
 "metadata": {
  "kernelspec": {
   "display_name": "Python 3.9.12 ('base')",
   "language": "python",
   "name": "python3"
  },
  "language_info": {
   "codemirror_mode": {
    "name": "ipython",
    "version": 3
   },
   "file_extension": ".py",
   "mimetype": "text/x-python",
   "name": "python",
   "nbconvert_exporter": "python",
   "pygments_lexer": "ipython3",
   "version": "3.9.13"
  },
  "orig_nbformat": 4,
  "vscode": {
   "interpreter": {
    "hash": "ad2bdc8ecc057115af97d19610ffacc2b4e99fae6737bb82f5d7fb13d2f2c186"
   }
  }
 },
 "nbformat": 4,
 "nbformat_minor": 2
}
